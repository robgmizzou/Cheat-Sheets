## Tell Git Who you are
git config --global user.name "Sam Smith"
git config --global user.email "sam@example.com"

## Create new local repo
get init

## check out a local repo
git clone /path/to/repo
## checkout a remote server repo
git clone username@host:/path/to/repo

## add single file
git add <filename>
## add whole directory
git add *

## commit changes
#commit to HEAD
git commit -m "Commit Message"
#commit files from git add and other changes
git commit -a
git commit -am "commit message"

## push
git push origin master

## status
git status

## connect to a remote repo
#if server is unlinked:
git remote add origin <server>
#list all configured remote repos
git remote -v

## Create new branch and switch
git checkout -b <branchname>

## switch branches
git checkout <branchname>

## list all branches in the repo, also list current branch
git branch

## delete feature branch
git branch -d <branchname>

## push branch to remote repo for others to use
git push origin <branchname>

## push all branches to your remote repo
git push --all origin

## delete a branch from your remote repo
git push origin :<branchname>

## fetch and merge changes on remote server to working directory
git pull

## merge a different branch into active branch
git merge <branchname>

## view all merge conflicts
git diff
##view conflicts against the base file
git diff --base <filename>
##preview changes, before merging
git diff <sourcebranch> <targetbranch>

## after resolving conflicts, mark changed file
git add <filename>

## use tagging to mark changeset
git log
## push all tags to repo
git push --tags origin


### OH SHIT GITS

## Oh shit, I did something terribly wrong, please tell me git has a magic time machine!?!
git reflog
# you will see a list of every thing you've
# done in git, across all branches!
# each one has an index HEAD@{index}
# find the one before you broke everything
git reset HEAD@{index}
# magic time machine

## Oh shit, I committed and immediately realized I need to make one small change!
# make your change
git add . # or add individual files
git commit --amend --no-edit
# now your last commit contains that change!
# WARNING: never amend public commits

## Oh shit, I need to change the message on my last commit!
git commit --amend
# follow prompts to change the commit message

## Oh shit, I accidentally committed something to master that should have been on a brand new branch!
# create a new branch from the current state of master
git branch some-new-branch-name
# remove the last commit from the master branch
git reset HEAD~ --hard
git checkout some-new-branch-name
# your commit lives in this branch now :)

## Oh shit, I accidentally committed to the wrong branch!
# undo the last commit, but leave the changes available
git reset HEAD~ --soft
git stash
# move to the correct branch
git checkout name-of-the-correct-branch
git stash pop
git add . # or add individual files
git commit -m "your message here";
# now your changes are on the correct branch
## -OR-
git checkout name-of-the-correct-branch
# grab the last commit to master
git cherry-pick master
# delete it from master
git checkout master
git reset HEAD~ --hard

## Oh shit, I tried to run a diff but nothing happened?!
git diff --staged

## Oh shit, I need to undo a commit from like 5 commits ago!
# find the commit you need to undo
git log
# use the arrow keys to scroll up and down in history
# once you've found your commit, save the hash
git revert [saved hash]
# git will create a new commit that undoes that commit
# follow prompts to edit the commit message
# or just save and commit

## Oh shit, I need to undo my changes to a file!
# find a hash for a commit before the file was changed
git log
# use the arrow keys to scroll up and down in history
# once you've found your commit, save the hash
git checkout [saved hash] -- path/to/file
# the old version of the file will be in your index
git commit -m "Wow, you don't have to copy-paste to undo"

## Fuck this noise, I give up.
cd ..
sudo rm -r fucking-git-repo-dir
git clone https://some.github.url/fucking-git-repo-dir.git
cd fucking-git-repo-dir


# get the lastest state of origin
git fetch origin
git checkout master
git reset --hard origin/master
# delete untracked files and directories
git clean -d --force
# repeat checkout/reset/clean for each borked branch